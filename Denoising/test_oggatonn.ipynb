{
 "cells": [
  {
   "cell_type": "code",
   "execution_count": 143,
   "id": "27ec38556a767479",
   "metadata": {
    "is_executing": true,
    "scrolled": false
   },
   "outputs": [
    {
     "name": "stdout",
     "output_type": "stream",
     "text": [
      "Files already downloaded and verified\n"
     ]
    },
    {
     "data": {
      "image/png": "[encoded data removed]",
      "text/plain": [
       "<Figure size 640x480 with 1 Axes>"
      ]
     },
     "metadata": {},
     "output_type": "display_data"
    }
   ],
   "source": [
    "import torchvision\n",
    "from torchvision import transforms\n",
    "import matplotlib.pyplot as plt\n",
    "import numpy as np\n",
    "from torchvision.utils import save_image\n",
    "\n",
    "original_testset = torchvision.datasets.CIFAR10(root='Datasets',\n",
    "                                                 train=False,\n",
    "                                                 transform=transforms.ToTensor(),\n",
    "                                                 download=True)\n",
    "\n",
    "original_img = original_testset[10][0]\n",
    "\n",
    "plt.imshow(original_img.permute(1,2,0))\n",
    "\n",
    "save_image(original_img, 'Datasets/img.png')"
   ]
  },
  {
   "cell_type": "code",
   "execution_count": 144,
   "id": "5edad28d",
   "metadata": {},
   "outputs": [],
   "source": [
    "import torch\n",
    "import math\n",
    "\n",
    "def aug_input(img):\n",
    "\n",
    "    num_channel = img.shape[0]\n",
    "    \n",
    "    aug_tensors = torch.zeros(num_channel, aug_tensor_size)\n",
    "    aug_img_shape = (int(math.sqrt(aug_tensor_size)), int(math.sqrt(aug_tensor_size)))\n",
    "    aug_img = torch.zeros(num_channel, aug_img_shape[0], aug_img_shape[1])\n",
    "\n",
    "    for c in range(num_channel):\n",
    "        img_flat = torch.reshape(img[c], (-1,))\n",
    "        j = 0\n",
    "        for i in range(aug_tensor_size):\n",
    "            if i in aug_indices[c]:\n",
    "                aug_tensors[c][i] = np.random.normal(0, sigma_test / 255)\n",
    "            else:\n",
    "                aug_tensors[c][i] = img_flat[j]\n",
    "                j += 1\n",
    "\n",
    "        aug_img[c] = torch.reshape(aug_tensors[c], aug_img_shape)\n",
    "\n",
    "    return aug_img"
   ]
  },
  {
   "cell_type": "code",
   "execution_count": 145,
   "id": "0a03401d",
   "metadata": {},
   "outputs": [],
   "source": [
    "aug_percentage = 0.10\n",
    "\n",
    "img = original_testset[10][0]\n",
    "num_channel = img.shape[0]\n",
    "img_dim = img.shape[2]\n",
    "aug_persent = aug_percentage  # Set percentage\n",
    "aug_dim = int(img_dim * aug_persent)\n",
    "aug_tensor_dim = img_dim + aug_dim\n",
    "\n",
    "aug_tensor_size = aug_tensor_dim * aug_tensor_dim\n",
    "aug_size = aug_tensor_size - (img_dim * img_dim)\n",
    "        \n",
    "aug_indices = []\n",
    "    \n",
    "for i in range(num_channel):\n",
    "    aug_indices.append(np.random.choice(np.arange(0, aug_tensor_size), replace=False, size=aug_size))\n",
    "\n",
    "aug_indices = np.array(aug_indices)"
   ]
  },
  {
   "cell_type": "code",
   "execution_count": 146,
   "id": "eccc294e",
   "metadata": {
    "scrolled": true
   },
   "outputs": [
    {
     "name": "stderr",
     "output_type": "stream",
     "text": [
      "Clipping input data to the valid range for imshow with RGB data ([0..1] for floats or [0..255] for integers).\n"
     ]
    },
    {
     "data": {
      "image/png": "[encoded data removed]",
      "text/plain": [
       "<Figure size 640x480 with 1 Axes>"
      ]
     },
     "metadata": {},
     "output_type": "display_data"
    }
   ],
   "source": [
    "aug_img = aug_input(img)\n",
    "plt.axis(False)\n",
    "plt.imshow(aug_img.permute(1, 2, 0))\n",
    "plt.show()"
   ]
  },
  {
   "cell_type": "code",
   "execution_count": 147,
   "id": "5c70c8e9",
   "metadata": {},
   "outputs": [
    {
     "name": "stdout",
     "output_type": "stream",
     "text": [
      "torch.Size([3, 32, 32])\n"
     ]
    }
   ],
   "source": [
    "import cv2\n",
    "import torch.nn.functional as F\n",
    "\n",
    "sigma_test = 50\n",
    "factor = 8\n",
    "\n",
    "def load_img(filepath):\n",
    "    return cv2.cvtColor(cv2.imread(filepath), cv2.COLOR_BGR2RGB)\n",
    "\n",
    "file_ = 'Datasets/img.png'\n",
    "gt = load_img(file_)\n",
    "\n",
    "img = np.float32(gt) / 255.\n",
    "\n",
    "np.random.seed(seed=0)  # for reproducibility\n",
    "img += np.random.normal(0, sigma_test / 255., img.shape)\n",
    "noisy = torch.from_numpy(img)\n",
    "\n",
    "img = noisy.permute(2, 0, 1)\n",
    "print(img.shape)\n",
    "\n",
    "input_ = img.unsqueeze(0).cuda()\n",
    "\n",
    "# Padding in case images are not multiples of 8\n",
    "h, w = input_.shape[2], input_.shape[3]\n",
    "H, W = ((h + factor) // factor) * factor, ((w + factor) // factor) * factor\n",
    "padh = H - h if h % factor != 0 else 0\n",
    "padw = W - w if w % factor != 0 else 0\n",
    "input_ = F.pad(input_, (0, padw, 0, padh), 'reflect')"
   ]
  },
  {
   "cell_type": "code",
   "execution_count": 148,
   "id": "fcbe1f3e",
   "metadata": {},
   "outputs": [
    {
     "name": "stderr",
     "output_type": "stream",
     "text": [
      "Clipping input data to the valid range for imshow with RGB data ([0..1] for floats or [0..255] for integers).\n"
     ]
    },
    {
     "data": {
      "text/plain": [
       "<matplotlib.image.AxesImage at 0x7fd6ac3757c0>"
      ]
     },
     "execution_count": 148,
     "metadata": {},
     "output_type": "execute_result"
    },
    {
     "data": {
      "image/png": "[encoded data removed]",
      "text/plain": [
       "<Figure size 640x480 with 1 Axes>"
      ]
     },
     "metadata": {},
     "output_type": "display_data"
    }
   ],
   "source": [
    "plt.imshow(input_.cpu()[0].permute(1, 2, 0))"
   ]
  },
  {
   "cell_type": "code",
   "execution_count": 153,
   "id": "81fe3edb",
   "metadata": {},
   "outputs": [
    {
     "name": "stdout",
     "output_type": "stream",
     "text": [
      "Compute results for noise level 50\n",
      "===>Testing using weights:  pretrained_models/gaussian_color_denoising_sigma50.pth\n",
      "------------------------------------------------\n"
     ]
    }
   ],
   "source": [
    "import yaml\n",
    "import torch.nn as nn\n",
    "import os\n",
    "\n",
    "from basicsr.models.archs.kbnet_s_arch import KBNet_s\n",
    "from basicsr.models.archs.restormer_arch import Restormer\n",
    "\n",
    "from basicsr.utils.util import patch_forward\n",
    "\n",
    "try:\n",
    "    from yaml import CLoader as Loader\n",
    "except ImportError:\n",
    "    from yaml import Loader\n",
    "    \n",
    "yaml_file = 'Options/GaussianColorDenoising_RestormerSigma50.yml'\n",
    "x = yaml.load(open(yaml_file, mode='r'), Loader=Loader)\n",
    "\n",
    "s = x['network_g'].pop('type')\n",
    "##########################\n",
    "\n",
    "sigmas = [50]\n",
    "\n",
    "factor = 8\n",
    "\n",
    "datasets = ['CBSD68', 'Kodak', 'McMaster','Urban100']\n",
    "\n",
    "for sigma_test in sigmas:\n",
    "    print(\"Compute results for noise level\",sigma_test)\n",
    "    model_restoration = Restormer(**x['network_g'])\n",
    "    weights = 'pretrained_models/gaussian_color_denoising_sigma50.pth'\n",
    "    checkpoint = torch.load(weights)\n",
    "    model_restoration.load_state_dict(checkpoint['params'])\n",
    "\n",
    "    print(\"===>Testing using weights: \",weights)\n",
    "    print(\"------------------------------------------------\")\n",
    "    model_restoration.cuda()\n",
    "    model_restoration = nn.DataParallel(model_restoration)\n",
    "    model_restoration.eval()\n",
    "\n",
    "# factor = 8\n",
    "\n",
    "# yaml_file = 'Options/GaussianColorDenoising_RestormerSigma50.yml'\n",
    "# x = yaml.load(open(yaml_file, mode='r'), Loader=Loader)\n",
    "\n",
    "# sigmas = [x['datasets']['train']['sigma_range']]\n",
    "# cfg_name = os.path.basename(yaml_file).split('.')[0]\n",
    "# pth_path = x['path']['pretrain_network_g']\n",
    "# print('**', yaml_file, pth_path)\n",
    "\n",
    "# s = x['network_g'].pop('type')\n",
    "# model_restoration = eval(s)(**x['network_g'])\n",
    "# checkpoint = torch.load(pth_path)\n",
    "\n",
    "# print(\"===>Testing using weights: \")\n",
    "# model_restoration.cuda()\n",
    "# model_restoration = nn.DataParallel(model_restoration)\n",
    "# model_restoration.load_state_dict(checkpoint['net'])\n",
    "# model_restoration.eval()\n",
    "\n",
    "# # restored = patch_forward(input_, model_restoration)\n",
    "# restored = model_restoration(input_)\n",
    "\n",
    "# # Unpad images to original dimensions\n",
    "# restored = restored[:, :, :h, :w]\n",
    "\n",
    "# plt.imshow(restored.detach().cpu()[0].permute(1, 2, 0))"
   ]
  },
  {
   "cell_type": "code",
   "execution_count": null,
   "id": "0a8a15b7",
   "metadata": {},
   "outputs": [],
   "source": [
    "img = aug_img\n",
    "print(img.shape)\n",
    "\n",
    "input_ = img.unsqueeze(0).cuda()\n",
    "\n",
    "# Padding in case images are not multiples of 8\n",
    "h, w = input_.shape[2], input_.shape[3]\n",
    "H, W = ((h + factor) // factor) * factor, ((w + factor) // factor) * factor\n",
    "padh = H - h if h % factor != 0 else 0\n",
    "padw = W - w if w % factor != 0 else 0\n",
    "input_ = F.pad(input_, (0, padw, 0, padh), 'reflect')\n",
    "\n"
   ]
  },
  {
   "cell_type": "code",
   "execution_count": null,
   "id": "8f824248",
   "metadata": {},
   "outputs": [],
   "source": [
    "from numpy import random\n",
    "\n",
    "x = np.random.normal(0, sigma_test / 255)\n",
    "\n",
    "print(x)"
   ]
  },
  {
   "cell_type": "code",
   "execution_count": null,
   "id": "777e7d89",
   "metadata": {},
   "outputs": [],
   "source": []
  }
 ],
 "metadata": {
  "kernelspec": {
   "display_name": "Python 3 (ipykernel)",
   "language": "python",
   "name": "python3"
  },
  "language_info": {
   "codemirror_mode": {
    "name": "ipython",
    "version": 3
   },
   "file_extension": ".py",
   "mimetype": "text/x-python",
   "name": "python",
   "nbconvert_exporter": "python",
   "pygments_lexer": "ipython3",
   "version": "3.9.13"
  }
 },
 "nbformat": 4,
 "nbformat_minor": 5
}
